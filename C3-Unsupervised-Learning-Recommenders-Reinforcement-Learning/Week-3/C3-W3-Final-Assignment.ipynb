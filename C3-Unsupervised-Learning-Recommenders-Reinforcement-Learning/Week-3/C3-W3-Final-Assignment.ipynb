{
 "cells": [
  {
   "cell_type": "markdown",
   "metadata": {},
   "source": [
    "# Deep Q-Learning - Lunar Lander\n",
    "\n",
    "In this assignment, you will train an agent to land a lunar lander safely on a landing pad on the surface of the moon.\n",
    "\n",
    "\n",
    "# Outline\n",
    "- [ 1 - Import Packages <img align=\"Right\" src=\"./images/lunar_lander.gif\" width = 60% >](#1)\n",
    "- [ 2 - Hyperparameters](#2)\n",
    "- [ 3 - The Lunar Lander Environment](#3)\n",
    "  - [ 3.1 Action Space](#3.1)\n",
    "  - [ 3.2 Observation Space](#3.2)\n",
    "  - [ 3.3 Rewards](#3.3)\n",
    "  - [ 3.4 Episode Termination](#3.4)\n",
    "- [ 4 - Load the Environment](#4)\n",
    "- [ 5 - Interacting with the Gym Environment](#5)\n",
    "    - [ 5.1 Exploring the Environment's Dynamics](#5.1)\n",
    "- [ 6 - Deep Q-Learning](#6)\n",
    "  - [ 6.1 Target Network](#6.1)\n",
    "    - [ Exercise 1](#ex01)\n",
    "  - [ 6.2 Experience Replay](#6.2)\n",
    "- [ 7 - Deep Q-Learning Algorithm with Experience Replay](#7)\n",
    "  - [ Exercise 2](#ex02)\n",
    "- [ 8 - Update the Network Weights](#8)\n",
    "- [ 9 - Train the Agent](#9)\n",
    "- [ 10 - See the Trained Agent In Action](#10)\n",
    "- [ 11 - Congratulations!](#11)\n",
    "- [ 12 - References](#12)\n"
   ]
  },
  {
   "cell_type": "markdown",
   "metadata": {},
   "source": [
    "_**NOTE:** To prevent errors from the autograder, you are not allowed to edit or delete non-graded cells in this lab. Please also refrain from adding any new cells. \n",
    "**Once you have passed this assignment** and want to experiment with any of the non-graded code, you may follow the instructions at the bottom of this notebook._"
   ]
  },
  {
   "cell_type": "markdown",
   "metadata": {},
   "source": [
    "<a name=\"1\"></a>\n",
    "## 1 - Import Packages\n",
    "\n",
    "We'll make use of the following packages:\n",
    "- `numpy` is a package for scientific computing in python.\n",
    "- `deque` will be our data structure for our memory buffer.\n",
    "- `namedtuple` will be used to store the experience tuples.\n",
    "- The `gym` toolkit is a collection of environments that can be used to test reinforcement learning algorithms. We should note that in this notebook we are using `gym` version `0.24.0`.\n",
    "- `PIL.Image` and `pyvirtualdisplay` are needed to render the Lunar Lander environment.\n",
    "- We will use several modules from the `tensorflow.keras` framework for building deep learning models.\n",
    "- `utils` is a module that contains helper functions for this assignment. You do not need to modify the code in this file.\n",
    "\n",
    "Run the cell below to import all the necessary packages."
   ]
  },
  {
   "cell_type": "code",
   "execution_count": 40,
   "metadata": {
    "deletable": false,
    "editable": false,
    "id": "KYbOPKRtfQOr"
   },
   "outputs": [],
   "source": [
    "import time\n",
    "from collections import deque, namedtuple\n",
    "\n",
    "import gym\n",
    "import numpy as np\n",
    "import PIL.Image\n",
    "import tensorflow as tf\n",
    "import utils\n",
    "\n",
    "from pyvirtualdisplay import Display\n",
    "from tensorflow.keras import Sequential\n",
    "from tensorflow.keras.layers import Dense, Input\n",
    "from tensorflow.keras.losses import MSE\n",
    "from tensorflow.keras.optimizers import Adam"
   ]
  },
  {
   "cell_type": "code",
   "execution_count": 41,
   "metadata": {
    "deletable": false,
    "editable": false
   },
   "outputs": [],
   "source": [
    "# Set up a virtual display to render the Lunar Lander environment.\n",
    "Display(visible=0, size=(840, 480)).start();\n",
    "\n",
    "# Set the random seed for TensorFlow\n",
    "tf.random.set_seed(utils.SEED)"
   ]
  },
  {
   "cell_type": "markdown",
   "metadata": {},
   "source": [
    "<a name=\"2\"></a>\n",
    "## 2 - Hyperparameters\n",
    "\n",
    "Run the cell below to set the hyperparameters."
   ]
  },
  {
   "cell_type": "code",
   "execution_count": 42,
   "metadata": {
    "deletable": false,
    "editable": false
   },
   "outputs": [],
   "source": [
    "MEMORY_SIZE = 100_000     # size of memory buffer\n",
    "GAMMA = 0.995             # discount factor\n",
    "ALPHA = 1e-3              # learning rate  \n",
    "NUM_STEPS_FOR_UPDATE = 4  # perform a learning update every C time steps"
   ]
  },
  {
   "cell_type": "markdown",
   "metadata": {},
   "source": [
    "<a name=\"3\"></a>\n",
    "## 3 - The Lunar Lander Environment\n",
    "\n",
    "In this notebook we will be using [OpenAI's Gym Library](https://www.gymlibrary.dev/). The Gym library provides a wide variety of environments for reinforcement learning. To put it simply, an environment represents a problem or task to be solved. In this notebook, we will try to solve the Lunar Lander environment using reinforcement learning.\n",
    "\n",
    "The goal of the Lunar Lander environment is to land the lunar lander safely on the landing pad on the surface of the moon. The landing pad is designated by two flag poles and its center is at coordinates `(0,0)` but the lander is also allowed to land outside of the landing pad. The lander starts at the top center of the environment with a random initial force applied to its center of mass and has infinite fuel. The environment is considered solved if you get `200` points. \n",
    "\n",
    "<br>\n",
    "<br>\n",
    "<figure>\n",
    "  <img src = \"images/lunar_lander.gif\" width = 40%>\n",
    "      <figcaption style = \"text-align: center; font-style: italic\">Fig 1. Lunar Lander Environment.</figcaption>\n",
    "</figure>\n",
    "\n",
    "\n",
    "\n",
    "<a name=\"3.1\"></a>\n",
    "### 3.1 Action Space\n",
    "\n",
    "The agent has four discrete actions available:\n",
    "\n",
    "* Do nothing.\n",
    "* Fire right engine.\n",
    "* Fire main engine.\n",
    "* Fire left engine.\n",
    "\n",
    "Each action has a corresponding numerical value:\n",
    "\n",
    "```python\n",
    "Do nothing = 0\n",
    "Fire right engine = 1\n",
    "Fire main engine = 2\n",
    "Fire left engine = 3\n",
    "```\n",
    "\n",
    "<a name=\"3.2\"></a>\n",
    "### 3.2 Observation Space\n",
    "\n",
    "The agent's observation space consists of a state vector with 8 variables:\n",
    "\n",
    "* Its $(x,y)$ coordinates. The landing pad is always at coordinates $(0,0)$.\n",
    "* Its linear velocities $(\\dot x,\\dot y)$.\n",
    "* Its angle $\\theta$.\n",
    "* Its angular velocity $\\dot \\theta$.\n",
    "* Two booleans, $l$ and $r$, that represent whether each leg is in contact with the ground or not.\n",
    "\n",
    "<a name=\"3.3\"></a>\n",
    "### 3.3 Rewards\n",
    "\n",
    "After every step, a reward is granted. The total reward of an episode is the sum of the rewards for all the steps within that episode.\n",
    "\n",
    "For each step, the reward:\n",
    "- is increased/decreased the closer/further the lander is to the landing pad.\n",
    "- is increased/decreased the slower/faster the lander is moving.\n",
    "- is decreased the more the lander is tilted (angle not horizontal).\n",
    "- is increased by 10 points for each leg that is in contact with the ground.\n",
    "- is decreased by 0.03 points each frame a side engine is firing.\n",
    "- is decreased by 0.3 points each frame the main engine is firing.\n",
    "\n",
    "The episode receives an additional reward of -100 or +100 points for crashing or landing safely respectively.\n",
    "\n",
    "<a name=\"3.4\"></a>\n",
    "### 3.4 Episode Termination\n",
    "\n",
    "An episode ends (i.e the environment enters a terminal state) if:\n",
    "\n",
    "* The lunar lander crashes (i.e if the body of the lunar lander comes in contact with the surface of the moon).\n",
    "\n",
    "* The absolute value of the lander's $x$-coordinate is greater than 1 (i.e. it goes beyond the left or right border)\n",
    "\n",
    "You can check out the [Open AI Gym documentation](https://www.gymlibrary.dev/environments/box2d/lunar_lander/) for a full description of the environment. "
   ]
  },
  {
   "cell_type": "markdown",
   "metadata": {},
   "source": [
    "<a name=\"4\"></a>\n",
    "## 4 - Load the Environment\n",
    "\n",
    "We start by loading the `LunarLander-v2` environment from the `gym` library by using the `.make()` method. `LunarLander-v2` is the latest version of the Lunar Lander environment and you can read about its version history in the [Open AI Gym documentation](https://www.gymlibrary.dev/environments/box2d/lunar_lander/#version-history)."
   ]
  },
  {
   "cell_type": "code",
   "execution_count": 43,
   "metadata": {
    "deletable": false,
    "editable": false,
    "id": "ILVMYKewfR0n"
   },
   "outputs": [],
   "source": [
    "env = gym.make('LunarLander-v2')"
   ]
  },
  {
   "cell_type": "markdown",
   "metadata": {},
   "source": [
    "Once we load the environment we use the `.reset()` method to reset the environment to the initial state. The lander starts at the top center of the environment and we can render the first frame of the environment by using the `.render()` method."
   ]
  },
  {
   "cell_type": "code",
   "execution_count": 44,
   "metadata": {
    "deletable": false,
    "editable": false
   },
   "outputs": [
    {
     "data": {
      "image/png": "[encoded data removed]",
      "text/plain": [
       "<PIL.Image.Image image mode=RGB size=600x400 at 0x7FBFBF896410>"
      ]
     },
     "execution_count": 44,
     "metadata": {},
     "output_type": "execute_result"
    }
   ],
   "source": [
    "env.reset()\n",
    "PIL.Image.fromarray(env.render(mode='rgb_array'))"
   ]
  },
  {
   "cell_type": "markdown",
   "metadata": {},
   "source": [
    "In order to build our neural network later on we need to know the size of the state vector and the number of valid actions. We can get this information from our environment by using the `.observation_space.shape` and `action_space.n` methods, respectively."
   ]
  },
  {
   "cell_type": "code",
   "execution_count": 45,
   "metadata": {
    "deletable": false,
    "editable": false,
    "id": "x3fdqdG4CUu2"
   },
   "outputs": [
    {
     "name": "stdout",
     "output_type": "stream",
     "text": [
      "State Shape: (8,)\n",
      "Number of actions: 4\n"
     ]
    }
   ],
   "source": [
    "state_size = env.observation_space.shape\n",
    "num_actions = env.action_space.n\n",
    "\n",
    "print('State Shape:', state_size)\n",
    "print('Number of actions:', num_actions)"
   ]
  },
  {
   "cell_type": "markdown",
   "metadata": {},
   "source": [
    "<a name=\"5\"></a>\n",
    "## 5 - Interacting with the Gym Environment\n",
    "\n",
    "The Gym library implements the standard “agent-environment loop” formalism:\n",
    "\n",
    "<br>\n",
    "<center>\n",
    "<video src = \"./videos/rl_formalism.m4v\" width=\"840\" height=\"480\" controls autoplay loop poster=\"./images/rl_formalism.png\"> </video>\n",
    "<figcaption style = \"text-align:center; font-style:italic\">Fig 2. Agent-environment Loop Formalism.</figcaption>\n",
    "</center>\n",
    "<br>\n",
    "\n",
    "In the standard “agent-environment loop” formalism, an agent interacts with the environment in discrete time steps $t=0,1,2,...$. At each time step $t$, the agent uses a policy $\\pi$ to select an action $A_t$ based on its observation of the environment's state $S_t$. The agent receives a numerical reward $R_t$ and on the next time step, moves to a new state $S_{t+1}$.\n",
    "\n",
    "<a name=\"5.1\"></a>\n",
    "### 5.1 Exploring the Environment's Dynamics\n",
    "\n",
    "In Open AI's Gym environments, we use the `.step()` method to run a single time step of the environment's dynamics. In the version of `gym` that we are using the `.step()` method accepts an action and returns four values:\n",
    "\n",
    "* `observation` (**object**): an environment-specific object representing your observation of the environment. In the Lunar Lander environment this corresponds to a numpy array containing the positions and velocities of the lander as described in section [3.2 Observation Space](#3.2).\n",
    "\n",
    "\n",
    "* `reward` (**float**): amount of reward returned as a result of taking the given action. In the Lunar Lander environment this corresponds to a float of type `numpy.float64` as described in section [3.3 Rewards](#3.3).\n",
    "\n",
    "\n",
    "* `done` (**boolean**): When done is `True`, it indicates the episode has terminated and it’s time to reset the environment. \n",
    "\n",
    "\n",
    "* `info` (**dictionary**): diagnostic information useful for debugging. We won't be using this variable in this notebook but it is shown here for completeness.\n",
    "\n",
    "To begin an episode, we need to reset the environment to an initial state. We do this by using the `.reset()` method. "
   ]
  },
  {
   "cell_type": "code",
   "execution_count": 46,
   "metadata": {
    "deletable": false,
    "editable": false
   },
   "outputs": [],
   "source": [
    "# Reset the environment and get the initial state.\n",
    "current_state = env.reset()"
   ]
  },
  {
   "cell_type": "markdown",
   "metadata": {},
   "source": [
    "Once the environment is reset, the agent can start taking actions in the environment by using the `.step()` method. Note that the agent can only take one action per time step. \n",
    "\n",
    "In the cell below you can select different actions and see how the returned values change depending on the action taken. Remember that in this environment the agent has four discrete actions available and we specify them in code by using their corresponding numerical value:\n",
    "\n",
    "```python\n",
    "Do nothing = 0\n",
    "Fire right engine = 1\n",
    "Fire main engine = 2\n",
    "Fire left engine = 3\n",
    "```"
   ]
  },
  {
   "cell_type": "code",
   "execution_count": 47,
   "metadata": {
    "deletable": false
   },
   "outputs": [
    {
     "data": {
      "text/html": [
       "<style  type=\"text/css\" >\n",
       "    #T_86dc0f56_2e14_11ee_a290_0242ac120086 th {\n",
       "          border: 1px solid grey;\n",
       "          text-align: center;\n",
       "    }    #T_86dc0f56_2e14_11ee_a290_0242ac120086 tbody td {\n",
       "          border: 1px solid grey;\n",
       "          text-align: center;\n",
       "    }    #T_86dc0f56_2e14_11ee_a290_0242ac120086row0_col0 {\n",
       "            background-color :  grey;\n",
       "        }    #T_86dc0f56_2e14_11ee_a290_0242ac120086row1_col1 {\n",
       "            background-color :  grey;\n",
       "        }    #T_86dc0f56_2e14_11ee_a290_0242ac120086row1_col2 {\n",
       "            background-color :  grey;\n",
       "        }    #T_86dc0f56_2e14_11ee_a290_0242ac120086row1_col3 {\n",
       "            background-color :  grey;\n",
       "        }    #T_86dc0f56_2e14_11ee_a290_0242ac120086row1_col4 {\n",
       "            background-color :  grey;\n",
       "        }    #T_86dc0f56_2e14_11ee_a290_0242ac120086row1_col5 {\n",
       "            background-color :  grey;\n",
       "        }    #T_86dc0f56_2e14_11ee_a290_0242ac120086row1_col6 {\n",
       "            background-color :  grey;\n",
       "        }    #T_86dc0f56_2e14_11ee_a290_0242ac120086row1_col7 {\n",
       "            background-color :  grey;\n",
       "        }    #T_86dc0f56_2e14_11ee_a290_0242ac120086row1_col8 {\n",
       "            background-color :  grey;\n",
       "        }    #T_86dc0f56_2e14_11ee_a290_0242ac120086row1_col9 {\n",
       "            background-color :  grey;\n",
       "        }    #T_86dc0f56_2e14_11ee_a290_0242ac120086row1_col10 {\n",
       "            background-color :  grey;\n",
       "        }    #T_86dc0f56_2e14_11ee_a290_0242ac120086row1_col11 {\n",
       "            background-color :  grey;\n",
       "        }    #T_86dc0f56_2e14_11ee_a290_0242ac120086row2_col0 {\n",
       "            background-color :  grey;\n",
       "        }    #T_86dc0f56_2e14_11ee_a290_0242ac120086row3_col1 {\n",
       "            background-color :  grey;\n",
       "        }    #T_86dc0f56_2e14_11ee_a290_0242ac120086row3_col2 {\n",
       "            background-color :  grey;\n",
       "        }    #T_86dc0f56_2e14_11ee_a290_0242ac120086row3_col3 {\n",
       "            background-color :  grey;\n",
       "        }    #T_86dc0f56_2e14_11ee_a290_0242ac120086row3_col4 {\n",
       "            background-color :  grey;\n",
       "        }    #T_86dc0f56_2e14_11ee_a290_0242ac120086row3_col5 {\n",
       "            background-color :  grey;\n",
       "        }    #T_86dc0f56_2e14_11ee_a290_0242ac120086row3_col6 {\n",
       "            background-color :  grey;\n",
       "        }    #T_86dc0f56_2e14_11ee_a290_0242ac120086row3_col7 {\n",
       "            background-color :  grey;\n",
       "        }    #T_86dc0f56_2e14_11ee_a290_0242ac120086row3_col8 {\n",
       "            background-color :  grey;\n",
       "        }    #T_86dc0f56_2e14_11ee_a290_0242ac120086row3_col9 {\n",
       "            background-color :  grey;\n",
       "        }    #T_86dc0f56_2e14_11ee_a290_0242ac120086row3_col10 {\n",
       "            background-color :  grey;\n",
       "        }    #T_86dc0f56_2e14_11ee_a290_0242ac120086row3_col11 {\n",
       "            background-color :  grey;\n",
       "        }    #T_86dc0f56_2e14_11ee_a290_0242ac120086row4_col1 {\n",
       "            background-color :  grey;\n",
       "        }    #T_86dc0f56_2e14_11ee_a290_0242ac120086row4_col2 {\n",
       "            background-color :  grey;\n",
       "        }    #T_86dc0f56_2e14_11ee_a290_0242ac120086row4_col3 {\n",
       "            background-color :  grey;\n",
       "        }    #T_86dc0f56_2e14_11ee_a290_0242ac120086row4_col4 {\n",
       "            background-color :  grey;\n",
       "        }    #T_86dc0f56_2e14_11ee_a290_0242ac120086row4_col5 {\n",
       "            background-color :  grey;\n",
       "        }    #T_86dc0f56_2e14_11ee_a290_0242ac120086row4_col6 {\n",
       "            background-color :  grey;\n",
       "        }    #T_86dc0f56_2e14_11ee_a290_0242ac120086row4_col7 {\n",
       "            background-color :  grey;\n",
       "        }    #T_86dc0f56_2e14_11ee_a290_0242ac120086row4_col8 {\n",
       "            background-color :  grey;\n",
       "        }    #T_86dc0f56_2e14_11ee_a290_0242ac120086row4_col9 {\n",
       "            background-color :  grey;\n",
       "        }    #T_86dc0f56_2e14_11ee_a290_0242ac120086row4_col10 {\n",
       "            background-color :  grey;\n",
       "        }    #T_86dc0f56_2e14_11ee_a290_0242ac120086row4_col11 {\n",
       "            background-color :  grey;\n",
       "        }</style><table id=\"T_86dc0f56_2e14_11ee_a290_0242ac120086\" ><thead>    <tr>        <th class=\"blank level0\" ></th>        <th class=\"col_heading level0 col0\" ></th>        <th class=\"col_heading level0 col1\" colspan=8>State Vector</th>        <th class=\"col_heading level0 col9\" colspan=3>Derived from the State Vector (the closer to zero, the better)</th>    </tr>    <tr>        <th class=\"blank level1\" ></th>        <th class=\"col_heading level1 col0\" ></th>        <th class=\"col_heading level1 col1\" colspan=2>Coordinate</th>        <th class=\"col_heading level1 col3\" colspan=2>Velocity</th>        <th class=\"col_heading level1 col5\" colspan=2>Tilting</th>        <th class=\"col_heading level1 col7\" colspan=2>Ground contact</th>        <th class=\"col_heading level1 col9\" >Distance from landing pad</th>        <th class=\"col_heading level1 col10\" >Velocity</th>        <th class=\"col_heading level1 col11\" >Tilting Angle (absolute value)</th>    </tr>    <tr>        <th class=\"blank level2\" ></th>        <th class=\"col_heading level2 col0\" ></th>        <th class=\"col_heading level2 col1\" >X (Horizontal)</th>        <th class=\"col_heading level2 col2\" >Y (Vertical)</th>        <th class=\"col_heading level2 col3\" >X (Horizontal)</th>        <th class=\"col_heading level2 col4\" >Y (Vertical)</th>        <th class=\"col_heading level2 col5\" >Angle</th>        <th class=\"col_heading level2 col6\" >Angular Velocity</th>        <th class=\"col_heading level2 col7\" >Left Leg?</th>        <th class=\"col_heading level2 col8\" >Right Leg?</th>        <th class=\"col_heading level2 col9\" ></th>        <th class=\"col_heading level2 col10\" ></th>        <th class=\"col_heading level2 col11\" ></th>    </tr></thead><tbody>\n",
       "                <tr>\n",
       "                        <th id=\"T_86dc0f56_2e14_11ee_a290_0242ac120086level0_row0\" class=\"row_heading level0 row0\" >Current State</th>\n",
       "                        <td id=\"T_86dc0f56_2e14_11ee_a290_0242ac120086row0_col0\" class=\"data row0 col0\" ></td>\n",
       "                        <td id=\"T_86dc0f56_2e14_11ee_a290_0242ac120086row0_col1\" class=\"data row0 col1\" >0.001919</td>\n",
       "                        <td id=\"T_86dc0f56_2e14_11ee_a290_0242ac120086row0_col2\" class=\"data row0 col2\" >1.422301</td>\n",
       "                        <td id=\"T_86dc0f56_2e14_11ee_a290_0242ac120086row0_col3\" class=\"data row0 col3\" >0.194400</td>\n",
       "                        <td id=\"T_86dc0f56_2e14_11ee_a290_0242ac120086row0_col4\" class=\"data row0 col4\" >0.505814</td>\n",
       "                        <td id=\"T_86dc0f56_2e14_11ee_a290_0242ac120086row0_col5\" class=\"data row0 col5\" >-0.002217</td>\n",
       "                        <td id=\"T_86dc0f56_2e14_11ee_a290_0242ac120086row0_col6\" class=\"data row0 col6\" >-0.044034</td>\n",
       "                        <td id=\"T_86dc0f56_2e14_11ee_a290_0242ac120086row0_col7\" class=\"data row0 col7\" >False</td>\n",
       "                        <td id=\"T_86dc0f56_2e14_11ee_a290_0242ac120086row0_col8\" class=\"data row0 col8\" >False</td>\n",
       "                        <td id=\"T_86dc0f56_2e14_11ee_a290_0242ac120086row0_col9\" class=\"data row0 col9\" >1.422302</td>\n",
       "                        <td id=\"T_86dc0f56_2e14_11ee_a290_0242ac120086row0_col10\" class=\"data row0 col10\" >0.541885</td>\n",
       "                        <td id=\"T_86dc0f56_2e14_11ee_a290_0242ac120086row0_col11\" class=\"data row0 col11\" >0.002217</td>\n",
       "            </tr>\n",
       "            <tr>\n",
       "                        <th id=\"T_86dc0f56_2e14_11ee_a290_0242ac120086level0_row1\" class=\"row_heading level0 row1\" >Action</th>\n",
       "                        <td id=\"T_86dc0f56_2e14_11ee_a290_0242ac120086row1_col0\" class=\"data row1 col0\" >Do nothing</td>\n",
       "                        <td id=\"T_86dc0f56_2e14_11ee_a290_0242ac120086row1_col1\" class=\"data row1 col1\" ></td>\n",
       "                        <td id=\"T_86dc0f56_2e14_11ee_a290_0242ac120086row1_col2\" class=\"data row1 col2\" ></td>\n",
       "                        <td id=\"T_86dc0f56_2e14_11ee_a290_0242ac120086row1_col3\" class=\"data row1 col3\" ></td>\n",
       "                        <td id=\"T_86dc0f56_2e14_11ee_a290_0242ac120086row1_col4\" class=\"data row1 col4\" ></td>\n",
       "                        <td id=\"T_86dc0f56_2e14_11ee_a290_0242ac120086row1_col5\" class=\"data row1 col5\" ></td>\n",
       "                        <td id=\"T_86dc0f56_2e14_11ee_a290_0242ac120086row1_col6\" class=\"data row1 col6\" ></td>\n",
       "                        <td id=\"T_86dc0f56_2e14_11ee_a290_0242ac120086row1_col7\" class=\"data row1 col7\" ></td>\n",
       "                        <td id=\"T_86dc0f56_2e14_11ee_a290_0242ac120086row1_col8\" class=\"data row1 col8\" ></td>\n",
       "                        <td id=\"T_86dc0f56_2e14_11ee_a290_0242ac120086row1_col9\" class=\"data row1 col9\" ></td>\n",
       "                        <td id=\"T_86dc0f56_2e14_11ee_a290_0242ac120086row1_col10\" class=\"data row1 col10\" ></td>\n",
       "                        <td id=\"T_86dc0f56_2e14_11ee_a290_0242ac120086row1_col11\" class=\"data row1 col11\" ></td>\n",
       "            </tr>\n",
       "            <tr>\n",
       "                        <th id=\"T_86dc0f56_2e14_11ee_a290_0242ac120086level0_row2\" class=\"row_heading level0 row2\" >Next State</th>\n",
       "                        <td id=\"T_86dc0f56_2e14_11ee_a290_0242ac120086row2_col0\" class=\"data row2 col0\" ></td>\n",
       "                        <td id=\"T_86dc0f56_2e14_11ee_a290_0242ac120086row2_col1\" class=\"data row2 col1\" >0.003839</td>\n",
       "                        <td id=\"T_86dc0f56_2e14_11ee_a290_0242ac120086row2_col2\" class=\"data row2 col2\" >1.433103</td>\n",
       "                        <td id=\"T_86dc0f56_2e14_11ee_a290_0242ac120086row2_col3\" class=\"data row2 col3\" >0.194137</td>\n",
       "                        <td id=\"T_86dc0f56_2e14_11ee_a290_0242ac120086row2_col4\" class=\"data row2 col4\" >0.480094</td>\n",
       "                        <td id=\"T_86dc0f56_2e14_11ee_a290_0242ac120086row2_col5\" class=\"data row2 col5\" >-0.004393</td>\n",
       "                        <td id=\"T_86dc0f56_2e14_11ee_a290_0242ac120086row2_col6\" class=\"data row2 col6\" >-0.043519</td>\n",
       "                        <td id=\"T_86dc0f56_2e14_11ee_a290_0242ac120086row2_col7\" class=\"data row2 col7\" >False</td>\n",
       "                        <td id=\"T_86dc0f56_2e14_11ee_a290_0242ac120086row2_col8\" class=\"data row2 col8\" >False</td>\n",
       "                        <td id=\"T_86dc0f56_2e14_11ee_a290_0242ac120086row2_col9\" class=\"data row2 col9\" >1.433108</td>\n",
       "                        <td id=\"T_86dc0f56_2e14_11ee_a290_0242ac120086row2_col10\" class=\"data row2 col10\" >0.517860</td>\n",
       "                        <td id=\"T_86dc0f56_2e14_11ee_a290_0242ac120086row2_col11\" class=\"data row2 col11\" >0.004393</td>\n",
       "            </tr>\n",
       "            <tr>\n",
       "                        <th id=\"T_86dc0f56_2e14_11ee_a290_0242ac120086level0_row3\" class=\"row_heading level0 row3\" >Reward</th>\n",
       "                        <td id=\"T_86dc0f56_2e14_11ee_a290_0242ac120086row3_col0\" class=\"data row3 col0\" >1.104326</td>\n",
       "                        <td id=\"T_86dc0f56_2e14_11ee_a290_0242ac120086row3_col1\" class=\"data row3 col1\" ></td>\n",
       "                        <td id=\"T_86dc0f56_2e14_11ee_a290_0242ac120086row3_col2\" class=\"data row3 col2\" ></td>\n",
       "                        <td id=\"T_86dc0f56_2e14_11ee_a290_0242ac120086row3_col3\" class=\"data row3 col3\" ></td>\n",
       "                        <td id=\"T_86dc0f56_2e14_11ee_a290_0242ac120086row3_col4\" class=\"data row3 col4\" ></td>\n",
       "                        <td id=\"T_86dc0f56_2e14_11ee_a290_0242ac120086row3_col5\" class=\"data row3 col5\" ></td>\n",
       "                        <td id=\"T_86dc0f56_2e14_11ee_a290_0242ac120086row3_col6\" class=\"data row3 col6\" ></td>\n",
       "                        <td id=\"T_86dc0f56_2e14_11ee_a290_0242ac120086row3_col7\" class=\"data row3 col7\" ></td>\n",
       "                        <td id=\"T_86dc0f56_2e14_11ee_a290_0242ac120086row3_col8\" class=\"data row3 col8\" ></td>\n",
       "                        <td id=\"T_86dc0f56_2e14_11ee_a290_0242ac120086row3_col9\" class=\"data row3 col9\" ></td>\n",
       "                        <td id=\"T_86dc0f56_2e14_11ee_a290_0242ac120086row3_col10\" class=\"data row3 col10\" ></td>\n",
       "                        <td id=\"T_86dc0f56_2e14_11ee_a290_0242ac120086row3_col11\" class=\"data row3 col11\" ></td>\n",
       "            </tr>\n",
       "            <tr>\n",
       "                        <th id=\"T_86dc0f56_2e14_11ee_a290_0242ac120086level0_row4\" class=\"row_heading level0 row4\" >Episode Terminated</th>\n",
       "                        <td id=\"T_86dc0f56_2e14_11ee_a290_0242ac120086row4_col0\" class=\"data row4 col0\" >False</td>\n",
       "                        <td id=\"T_86dc0f56_2e14_11ee_a290_0242ac120086row4_col1\" class=\"data row4 col1\" ></td>\n",
       "                        <td id=\"T_86dc0f56_2e14_11ee_a290_0242ac120086row4_col2\" class=\"data row4 col2\" ></td>\n",
       "                        <td id=\"T_86dc0f56_2e14_11ee_a290_0242ac120086row4_col3\" class=\"data row4 col3\" ></td>\n",
       "                        <td id=\"T_86dc0f56_2e14_11ee_a290_0242ac120086row4_col4\" class=\"data row4 col4\" ></td>\n",
       "                        <td id=\"T_86dc0f56_2e14_11ee_a290_0242ac120086row4_col5\" class=\"data row4 col5\" ></td>\n",
       "                        <td id=\"T_86dc0f56_2e14_11ee_a290_0242ac120086row4_col6\" class=\"data row4 col6\" ></td>\n",
       "                        <td id=\"T_86dc0f56_2e14_11ee_a290_0242ac120086row4_col7\" class=\"data row4 col7\" ></td>\n",
       "                        <td id=\"T_86dc0f56_2e14_11ee_a290_0242ac120086row4_col8\" class=\"data row4 col8\" ></td>\n",
       "                        <td id=\"T_86dc0f56_2e14_11ee_a290_0242ac120086row4_col9\" class=\"data row4 col9\" ></td>\n",
       "                        <td id=\"T_86dc0f56_2e14_11ee_a290_0242ac120086row4_col10\" class=\"data row4 col10\" ></td>\n",
       "                        <td id=\"T_86dc0f56_2e14_11ee_a290_0242ac120086row4_col11\" class=\"data row4 col11\" ></td>\n",
       "            </tr>\n",
       "    </tbody></table>"
      ],
      "text/plain": [
       "<pandas.io.formats.style.Styler at 0x7fbfab91ba90>"
      ]
     },
     "metadata": {},
     "output_type": "display_data"
    }
   ],
   "source": [
    "# Select an action\n",
    "action = 0\n",
    "\n",
    "# Run a single time step of the environment's dynamics with the given action.\n",
    "next_state, reward, done, _ = env.step(action)\n",
    "\n",
    "# Display table with values.\n",
    "utils.display_table(current_state, action, next_state, reward, done)\n",
    "\n",
    "# Replace the `current_state` with the state after the action is taken\n",
    "current_state = next_state"
   ]
  },
  {
   "cell_type": "markdown",
   "metadata": {},
   "source": [
    "In practice, when we train the agent we use a loop to allow the agent to take many consecutive actions during an episode."
   ]
  },
  {
   "cell_type": "markdown",
   "metadata": {},
   "source": [
    "<a name=\"6\"></a>\n",
    "## 6 - Deep Q-Learning\n",
    "\n",
    "In cases where both the state and action space are discrete we can estimate the action-value function iteratively by using the Bellman equation:\n",
    "\n",
    "$$\n",
    "Q_{i+1}(s,a) = R + \\gamma \\max_{a'}Q_i(s',a')\n",
    "$$\n",
    "\n",
    "This iterative method converges to the optimal action-value function $Q^*(s,a)$ as $i\\to\\infty$. This means that the agent just needs to gradually explore the state-action space and keep updating the estimate of $Q(s,a)$ until it converges to the optimal action-value function $Q^*(s,a)$. However, in cases where the state space is continuous it becomes practically impossible to explore the entire state-action space. Consequently, this also makes it practically impossible to gradually estimate $Q(s,a)$ until it converges to $Q^*(s,a)$.\n",
    "\n",
    "In the Deep $Q$-Learning, we solve this problem by using a neural network to estimate the action-value function $Q(s,a)\\approx Q^*(s,a)$. We call this neural network a $Q$-Network and it can be trained by adjusting its weights at each iteration to minimize the mean-squared error in the Bellman equation.\n",
    "\n",
    "Unfortunately, using neural networks in reinforcement learning to estimate action-value functions has proven to be highly unstable. Luckily, there's a couple of techniques that can be employed to avoid instabilities. These techniques consist of using a ***Target Network*** and ***Experience Replay***. We will explore these two techniques in the following sections."
   ]
  },
  {
   "cell_type": "markdown",
   "metadata": {},
   "source": [
    "<a name=\"6.1\"></a>\n",
    "### 6.1 Target Network\n",
    "\n",
    "We can train the $Q$-Network by adjusting it's weights at each iteration to minimize the mean-squared error in the Bellman equation, where the target values are given by:\n",
    "\n",
    "$$\n",
    "y = R + \\gamma \\max_{a'}Q(s',a';w)\n",
    "$$\n",
    "\n",
    "where $w$ are the weights of the $Q$-Network. This means that we are adjusting the weights $w$ at each iteration to minimize the following error:\n",
    "\n",
    "$$\n",
    "\\overbrace{\\underbrace{R + \\gamma \\max_{a'}Q(s',a'; w)}_{\\rm {y~target}} - Q(s,a;w)}^{\\rm {Error}}\n",
    "$$\n",
    "\n",
    "Notice that this forms a problem because the $y$ target is changing on every iteration. Having a constantly moving target can lead to oscillations and instabilities. To avoid this, we can create\n",
    "a separate neural network for generating the $y$ targets. We call this separate neural network the **target $\\hat Q$-Network** and it will have the same architecture as the original $Q$-Network. By using the target $\\hat Q$-Network, the above error becomes:\n",
    "\n",
    "$$\n",
    "\\overbrace{\\underbrace{R + \\gamma \\max_{a'}\\hat{Q}(s',a'; w^-)}_{\\rm {y~target}} - Q(s,a;w)}^{\\rm {Error}}\n",
    "$$\n",
    "\n",
    "where $w^-$ and $w$ are the weights of the target $\\hat Q$-Network and $Q$-Network, respectively.\n",
    "\n",
    "In practice, we will use the following algorithm: every $C$ time steps we will use the $\\hat Q$-Network to generate the $y$ targets and update the weights of the target $\\hat Q$-Network using the weights of the $Q$-Network. We will update the weights $w^-$ of the the target $\\hat Q$-Network using a **soft update**. This means that we will update the weights $w^-$ using the following rule:\n",
    " \n",
    "$$\n",
    "w^-\\leftarrow \\tau w + (1 - \\tau) w^-\n",
    "$$\n",
    "\n",
    "where $\\tau\\ll 1$. By using the soft update, we are ensuring that the target values, $y$, change slowly, which greatly improves the stability of our learning algorithm."
   ]
  },
  {
   "cell_type": "markdown",
   "metadata": {},
   "source": [
    "<a name=\"ex01\"></a>\n",
    "### Exercise 1\n",
    "\n",
    "In this exercise you will create the $Q$ and target $\\hat Q$ networks and set the optimizer. Remember that the Deep $Q$-Network (DQN) is a neural network that approximates the action-value function $Q(s,a)\\approx Q^*(s,a)$. It does this by learning how to map states to $Q$ values.\n",
    "\n",
    "To solve the Lunar Lander environment, we are going to employ a DQN with the following architecture:\n",
    "\n",
    "* An `Input` layer that takes `state_size` as input.\n",
    "\n",
    "* A `Dense` layer with `64` units and a `relu` activation function.\n",
    "\n",
    "* A `Dense` layer with `64` units and a `relu` activation function.\n",
    "\n",
    "* A `Dense` layer with `num_actions` units and a `linear` activation function. This will be the output layer of our network.\n",
    "\n",
    "\n",
    "In the cell below you should create the $Q$-Network and the target $\\hat Q$-Network using the model architecture described above. Remember that both the $Q$-Network and the target $\\hat Q$-Network have the same architecture.\n",
    "\n",
    "Lastly, you should set `Adam` as the optimizer with a learning rate equal to `ALPHA`. Recall that `ALPHA` was defined in the [Hyperparameters](#2) section. We should note that for this exercise you should use the already imported packages:\n",
    "```python\n",
    "from tensorflow.keras.layers import Dense, Input\n",
    "from tensorflow.keras.optimizers import Adam\n",
    "```"
   ]
  },
  {
   "cell_type": "code",
   "execution_count": 48,
   "metadata": {
    "deletable": false
   },
   "outputs": [],
   "source": [
    "# UNQ_C1\n",
    "# GRADED CELL\n",
    "\n",
    "# Create the Q-Network\n",
    "q_network = Sequential([\n",
    "        Input(shape=state_size),                      \n",
    "        Dense(units=64, activation='relu'),            \n",
    "        Dense(units=64, activation='relu'),            \n",
    "        Dense(units=num_actions, activation='linear'),\n",
    "        ])\n",
    "\n",
    "# Create the target Q^-Network\n",
    "target_q_network = Sequential([\n",
    "        Input(shape=state_size),                       \n",
    "        Dense(units=64, activation='relu'),            \n",
    "        Dense(units=64, activation='relu'),            \n",
    "        Dense(units=num_actions, activation='linear'), \n",
    "        ])\n",
    "\n",
    "### START CODE HERE ### \n",
    "\n",
    "optimizer = Adam(learning_rate=ALPHA)  \n",
    "    \n",
    "    \n",
    "### END CODE HERE ###"
   ]
  },
  {
   "cell_type": "code",
   "execution_count": 49,
   "metadata": {
    "deletable": false,
    "editable": false
   },
   "outputs": [
    {
     "name": "stdout",
     "output_type": "stream",
     "text": [
      "\u001b[92mAll tests passed!\n",
      "\u001b[92mAll tests passed!\n",
      "\u001b[92mAll tests passed!\n"
     ]
    }
   ],
   "source": [
    "# UNIT TEST\n",
    "from public_tests import *\n",
    "\n",
    "test_network(q_network)\n",
    "test_network(target_q_network)\n",
    "test_optimizer(optimizer, ALPHA) "
   ]
  },
  {
   "cell_type": "markdown",
   "metadata": {},
   "source": [
    "<details>\n",
    "  <summary><font size=\"3\" color=\"darkgreen\"><b>Click for hints</b></font></summary>\n",
    "    \n",
    "```python\n",
    "# Create the Q-Network\n",
    "q_network = Sequential([\n",
    "    Input(shape=state_size),                      \n",
    "    Dense(units=64, activation='relu'),            \n",
    "    Dense(units=64, activation='relu'),            \n",
    "    Dense(units=num_actions, activation='linear'),\n",
    "    ])\n",
    "\n",
    "# Create the target Q^-Network\n",
    "target_q_network = Sequential([\n",
    "    Input(shape=state_size),                       \n",
    "    Dense(units=64, activation='relu'),            \n",
    "    Dense(units=64, activation='relu'),            \n",
    "    Dense(units=num_actions, activation='linear'), \n",
    "    ])\n",
    "\n",
    "optimizer = Adam(learning_rate=ALPHA)                                  \n",
    "``` "
   ]
  },
  {
   "cell_type": "markdown",
   "metadata": {},
   "source": [
    "<a name=\"6.2\"></a>\n",
    "### 6.2 Experience Replay\n",
    "\n",
    "When an agent interacts with the environment, the states, actions, and rewards the agent experiences are sequential by nature. If the agent tries to learn from these consecutive experiences it can run into problems due to the strong correlations between them. To avoid this, we employ a technique known as **Experience Replay** to generate uncorrelated experiences for training our agent. Experience replay consists of storing the agent's experiences (i.e the states, actions, and rewards the agent receives) in a memory buffer and then sampling a random mini-batch of experiences from the buffer to do the learning. The experience tuples $(S_t, A_t, R_t, S_{t+1})$ will be added to the memory buffer at each time step as the agent interacts with the environment.\n",
    "\n",
    "For convenience, we will store the experiences as named tuples."
   ]
  },
  {
   "cell_type": "code",
   "execution_count": 50,
   "metadata": {
    "deletable": false,
    "editable": false
   },
   "outputs": [],
   "source": [
    "# Store experiences as named tuples\n",
    "experience = namedtuple(\"Experience\", field_names=[\"state\", \"action\", \"reward\", \"next_state\", \"done\"])"
   ]
  },
  {
   "cell_type": "markdown",
   "metadata": {},
   "source": [
    "By using experience replay we avoid problematic correlations, oscillations and instabilities. In addition, experience replay also allows the agent to potentially use the same experience in multiple weight updates, which increases data efficiency."
   ]
  },
  {
   "cell_type": "markdown",
   "metadata": {},
   "source": [
    "<a name=\"7\"></a>\n",
    "## 7 - Deep Q-Learning Algorithm with Experience Replay\n",
    "\n",
    "Now that we know all the techniques that we are going to use, we can put them together to arrive at the Deep Q-Learning Algorithm With Experience Replay.\n",
    "<br>\n",
    "<br>\n",
    "<figure>\n",
    "  <img src = \"images/deep_q_algorithm.png\" width = 90% style = \"border: thin silver solid; padding: 0px\">\n",
    "      <figcaption style = \"text-align: center; font-style: italic\">Fig 3. Deep Q-Learning with Experience Replay.</figcaption>\n",
    "</figure>"
   ]
  },
  {
   "cell_type": "markdown",
   "metadata": {},
   "source": [
    "<a name=\"ex02\"></a>\n",
    "### Exercise 2\n",
    "\n",
    "In this exercise you will implement line ***12*** of the algorithm outlined in *Fig 3* above and you will also compute the loss between the $y$ targets and the $Q(s,a)$ values. In the cell below, complete the `compute_loss` function by setting the $y$ targets equal to:\n",
    "\n",
    "$$\n",
    "\\begin{equation}\n",
    "    y_j =\n",
    "    \\begin{cases}\n",
    "      R_j & \\text{if episode terminates at step  } j+1\\\\\n",
    "      R_j + \\gamma \\max_{a'}\\hat{Q}(s_{j+1},a') & \\text{otherwise}\\\\\n",
    "    \\end{cases}       \n",
    "\\end{equation}\n",
    "$$\n",
    "\n",
    "Here are a couple of things to note:\n",
    "\n",
    "* The `compute_loss` function takes in a mini-batch of experience tuples. This mini-batch of experience tuples is unpacked to extract the `states`, `actions`, `rewards`, `next_states`, and `done_vals`. You should keep in mind that these variables are *TensorFlow Tensors* whose size will depend on the mini-batch size. For example, if the mini-batch size is `64` then both `rewards` and `done_vals` will be TensorFlow Tensors with `64` elements.\n",
    "\n",
    "\n",
    "* Using `if/else` statements to set the $y$ targets will not work when the variables are tensors with many elements. However, notice that you can use the `done_vals` to implement the above in a single line of code. To do this, recall that the `done` variable is a Boolean variable that takes the value `True` when an episode terminates at step $j+1$ and it is `False` otherwise. Taking into account that a Boolean value of `True` has the numerical value of `1` and a Boolean value of `False` has the numerical value of `0`, you can use the factor `(1 - done_vals)` to implement the above in a single line of code. Here's a hint: notice that `(1 - done_vals)` has a value of `0` when `done_vals` is `True` and a value of `1` when `done_vals` is `False`. \n",
    "\n",
    "Lastly, compute the loss by calculating the Mean-Squared Error (`MSE`) between the `y_targets` and the `q_values`. To calculate the mean-squared error you should use the already imported package `MSE`:\n",
    "```python\n",
    "from tensorflow.keras.losses import MSE\n",
    "```"
   ]
  },
  {
   "cell_type": "code",
   "execution_count": 51,
   "metadata": {
    "deletable": false
   },
   "outputs": [],
   "source": [
    "# UNQ_C2\n",
    "# GRADED FUNCTION: calculate_loss\n",
    "\n",
    "def compute_loss(experiences, gamma, q_network, target_q_network):\n",
    "    \"\"\" \n",
    "    Calculates the loss.\n",
    "    \n",
    "    Args:\n",
    "      experiences: (tuple) tuple of [\"state\", \"action\", \"reward\", \"next_state\", \"done\"] namedtuples\n",
    "      gamma: (float) The discount factor.\n",
    "      q_network: (tf.keras.Sequential) Keras model for predicting the q_values\n",
    "      target_q_network: (tf.keras.Sequential) Keras model for predicting the targets\n",
    "          \n",
    "    Returns:\n",
    "      loss: (TensorFlow Tensor(shape=(0,), dtype=int32)) the Mean-Squared Error between\n",
    "            the y targets and the Q(s,a) values.\n",
    "    \"\"\"\n",
    "\n",
    "    # Unpack the mini-batch of experience tuples\n",
    "    states, actions, rewards, next_states, done_vals = experiences\n",
    "    \n",
    "    # Compute max Q^(s,a)\n",
    "    max_qsa = tf.reduce_max(target_q_network(next_states), axis=-1)\n",
    "    \n",
    "    # Set y = R if episode terminates, otherwise set y = R + γ max Q^(s,a).\n",
    "    ### START CODE HERE ### \n",
    "    y_targets = rewards + (gamma * max_qsa * (1 - done_vals))\n",
    "    ### END CODE HERE ###\n",
    "    \n",
    "    # Get the q_values and reshape to match y_targets\n",
    "    q_values = q_network(states)\n",
    "    q_values = tf.gather_nd(q_values, tf.stack([tf.range(q_values.shape[0]),\n",
    "                                                tf.cast(actions, tf.int32)], axis=1))\n",
    "        \n",
    "    # Compute the loss\n",
    "    ### START CODE HERE ### \n",
    "    loss = MSE(y_targets, q_values) \n",
    "    ### END CODE HERE ### \n",
    "    \n",
    "    return loss"
   ]
  },
  {
   "cell_type": "code",
   "execution_count": 52,
   "metadata": {
    "deletable": false,
    "editable": false
   },
   "outputs": [
    {
     "name": "stdout",
     "output_type": "stream",
     "text": [
      "\u001b[92mAll tests passed!\n"
     ]
    }
   ],
   "source": [
    "# UNIT TEST    \n",
    "test_compute_loss(compute_loss)"
   ]
  },
  {
   "cell_type": "markdown",
   "metadata": {},
   "source": [
    "<details>\n",
    "  <summary><font size=\"3\" color=\"darkgreen\"><b>Click for hints</b></font></summary>\n",
    "    \n",
    "```python\n",
    "def compute_loss(experiences, gamma, q_network, target_q_network):\n",
    "    \"\"\" \n",
    "    Calculates the loss.\n",
    "    \n",
    "    Args:\n",
    "      experiences: (tuple) tuple of [\"state\", \"action\", \"reward\", \"next_state\", \"done\"] namedtuples\n",
    "      gamma: (float) The discount factor.\n",
    "      q_network: (tf.keras.Sequential) Keras model for predicting the q_values\n",
    "      target_q_network: (tf.keras.Sequential) Keras model for predicting the targets\n",
    "          \n",
    "    Returns:\n",
    "      loss: (TensorFlow Tensor(shape=(0,), dtype=int32)) the Mean-Squared Error between\n",
    "            the y targets and the Q(s,a) values.\n",
    "    \"\"\"\n",
    "\n",
    "    \n",
    "    # Unpack the mini-batch of experience tuples\n",
    "    states, actions, rewards, next_states, done_vals = experiences\n",
    "    \n",
    "    # Compute max Q^(s,a)\n",
    "    max_qsa = tf.reduce_max(target_q_network(next_states), axis=-1)\n",
    "    \n",
    "    # Set y = R if episode terminates, otherwise set y = R + γ max Q^(s,a).\n",
    "    y_targets = rewards + (gamma * max_qsa * (1 - done_vals))\n",
    "    \n",
    "    # Get the q_values\n",
    "    q_values = q_network(states)\n",
    "    q_values = tf.gather_nd(q_values, tf.stack([tf.range(q_values.shape[0]),\n",
    "                                                tf.cast(actions, tf.int32)], axis=1))\n",
    "    \n",
    "    # Calculate the loss\n",
    "    loss = MSE(y_targets, q_values)\n",
    "    \n",
    "    return loss\n",
    "\n",
    "``` \n",
    "    "
   ]
  },
  {
   "cell_type": "markdown",
   "metadata": {},
   "source": [
    "<a name=\"8\"></a>\n",
    "## 8 - Update the Network Weights\n",
    "\n",
    "We will use the `agent_learn` function below to implement lines ***12 -14*** of the algorithm outlined in [Fig 3](#7). The `agent_learn` function will update the weights of the $Q$ and target $\\hat Q$ networks using a custom training loop. Because we are using a custom training loop we need to retrieve the gradients via a `tf.GradientTape` instance, and then call `optimizer.apply_gradients()` to update the weights of our $Q$-Network. Note that we are also using the `@tf.function` decorator to increase performance. Without this decorator our training will take twice as long. If you would like to know more about how to increase performance with `@tf.function` take a look at the [TensorFlow documentation](https://www.tensorflow.org/guide/function).\n",
    "\n",
    "The last line of this function updates the weights of the target $\\hat Q$-Network using a [soft update](#6.1). If you want to know how this is implemented in code we encourage you to take a look at the `utils.update_target_network` function in the `utils` module."
   ]
  },
  {
   "cell_type": "code",
   "execution_count": 53,
   "metadata": {
    "deletable": false,
    "editable": false
   },
   "outputs": [],
   "source": [
    "@tf.function\n",
    "def agent_learn(experiences, gamma):\n",
    "    \"\"\"\n",
    "    Updates the weights of the Q networks.\n",
    "    \n",
    "    Args:\n",
    "      experiences: (tuple) tuple of [\"state\", \"action\", \"reward\", \"next_state\", \"done\"] namedtuples\n",
    "      gamma: (float) The discount factor.\n",
    "    \n",
    "    \"\"\"\n",
    "    \n",
    "    # Calculate the loss\n",
    "    with tf.GradientTape() as tape:\n",
    "        loss = compute_loss(experiences, gamma, q_network, target_q_network)\n",
    "\n",
    "    # Get the gradients of the loss with respect to the weights.\n",
    "    gradients = tape.gradient(loss, q_network.trainable_variables)\n",
    "    \n",
    "    # Update the weights of the q_network.\n",
    "    optimizer.apply_gradients(zip(gradients, q_network.trainable_variables))\n",
    "\n",
    "    # update the weights of target q_network\n",
    "    utils.update_target_network(q_network, target_q_network)"
   ]
  },
  {
   "cell_type": "markdown",
   "metadata": {},
   "source": [
    "<a name=\"9\"></a>\n",
    "## 9 - Train the Agent\n",
    "\n",
    "We are now ready to train our agent to solve the Lunar Lander environment. In the cell below we will implement the algorithm in [Fig 3](#7) line by line (please note that we have included the same algorithm below for easy reference. This will prevent you from scrolling up and down the notebook):\n",
    "\n",
    "* **Line 1**: We initialize the `memory_buffer` with a capacity of $N =$ `MEMORY_SIZE`. Notice that we are using a `deque` as the data structure for our `memory_buffer`.\n",
    "\n",
    "\n",
    "* **Line 2**: We skip this line since we already initialized the `q_network` in [Exercise 1](#ex01).\n",
    "\n",
    "\n",
    "* **Line 3**: We initialize the `target_q_network` by setting its weights to be equal to those of the `q_network`.\n",
    "\n",
    "\n",
    "* **Line 4**: We start the outer loop. Notice that we have set $M =$ `num_episodes = 2000`. This number is reasonable because the agent should be able to solve the Lunar Lander environment in less than `2000` episodes using this notebook's default parameters.\n",
    "\n",
    "\n",
    "* **Line 5**: We use the `.reset()` method to reset the environment to the initial state and get the initial state.\n",
    "\n",
    "\n",
    "* **Line 6**: We start the inner loop. Notice that we have set $T =$ `max_num_timesteps = 1000`. This means that the episode will automatically terminate if the episode hasn't terminated after `1000` time steps.\n",
    "\n",
    "\n",
    "* **Line 7**: The agent observes the current `state` and chooses an `action` using an $\\epsilon$-greedy policy. Our agent starts out using a value of $\\epsilon =$ `epsilon = 1` which yields an $\\epsilon$-greedy policy that is equivalent to the equiprobable random policy. This means that at the beginning of our training, the agent is just going to take random actions regardless of the observed `state`. As training progresses we will decrease the value of $\\epsilon$ slowly towards a minimum value using a given $\\epsilon$-decay rate. We want this minimum value to be close to zero because a value of $\\epsilon = 0$ will yield an $\\epsilon$-greedy policy that is equivalent to the greedy policy. This means that towards the end of training, the agent will lean towards selecting the `action` that it believes (based on its past experiences) will maximize $Q(s,a)$. We will set the minimum $\\epsilon$ value to be `0.01` and not exactly 0 because we always want to keep a little bit of exploration during training. If you want to know how this is implemented in code we encourage you to take a look at the `utils.get_action` function in the `utils` module.\n",
    "\n",
    "\n",
    "* **Line 8**: We use the `.step()` method to take the given `action` in the environment and get the `reward` and the `next_state`. \n",
    "\n",
    "\n",
    "* **Line 9**: We store the `experience(state, action, reward, next_state, done)` tuple in our `memory_buffer`. Notice that we also store the `done` variable so that we can keep track of when an episode terminates. This allowed us to set the $y$ targets in [Exercise 2](#ex02).\n",
    "\n",
    "\n",
    "* **Line 10**: We check if the conditions are met to perform a learning update. We do this by using our custom `utils.check_update_conditions` function. This function checks if $C =$ `NUM_STEPS_FOR_UPDATE = 4` time steps have occured and if our `memory_buffer` has enough experience tuples to fill a mini-batch. For example, if the mini-batch size is `64`, then our `memory_buffer` should have more than `64` experience tuples in order to pass the latter condition. If the conditions are met, then the `utils.check_update_conditions` function will return a value of `True`, otherwise it will return a value of `False`.\n",
    "\n",
    "\n",
    "* **Lines 11 - 14**: If the `update` variable is `True` then we perform a learning update. The learning update consists of sampling a random mini-batch of experience tuples from our `memory_buffer`, setting the $y$ targets, performing gradient descent, and updating the weights of the networks. We will use the `agent_learn` function we defined in [Section 8](#8) to perform the latter 3.\n",
    "\n",
    "\n",
    "* **Line 15**: At the end of each iteration of the inner loop we set `next_state` as our new `state` so that the loop can start again from this new state. In addition, we check if the episode has reached a terminal state (i.e we check if `done = True`). If a terminal state has been reached, then we break out of the inner loop.\n",
    "\n",
    "\n",
    "* **Line 16**: At the end of each iteration of the outer loop we update the value of $\\epsilon$, and check if the environment has been solved. We consider that the environment has been solved if the agent receives an average of `200` points in the last `100` episodes. If the environment has not been solved we continue the outer loop and start a new episode.\n",
    "\n",
    "Finally, we wanted to note that we have included some extra variables to keep track of the total number of points the agent received in each episode. This will help us determine if the agent has solved the environment and it will also allow us to see how our agent performed during training. We also use the `time` module to measure how long the training takes. \n",
    "\n",
    "<br>\n",
    "<br>\n",
    "<figure>\n",
    "  <img src = \"images/deep_q_algorithm.png\" width = 90% style = \"border: thin silver solid; padding: 0px\">\n",
    "      <figcaption style = \"text-align: center; font-style: italic\">Fig 4. Deep Q-Learning with Experience Replay.</figcaption>\n",
    "</figure>\n",
    "<br>\n",
    "\n",
    "**Note:** With this notebook's default parameters, the following cell takes between 10 to 15 minutes to run. "
   ]
  },
  {
   "cell_type": "code",
   "execution_count": 54,
   "metadata": {
    "deletable": false,
    "editable": false
   },
   "outputs": [
    {
     "name": "stdout",
     "output_type": "stream",
     "text": [
      "Episode 100 | Total point average of the last 100 episodes: -152.63\n",
      "Episode 200 | Total point average of the last 100 episodes: -85.451\n",
      "Episode 300 | Total point average of the last 100 episodes: -70.48\n",
      "Episode 400 | Total point average of the last 100 episodes: -28.91\n",
      "Episode 500 | Total point average of the last 100 episodes: 9.2245\n",
      "Episode 600 | Total point average of the last 100 episodes: 183.36\n",
      "Episode 700 | Total point average of the last 100 episodes: 154.62\n",
      "Episode 761 | Total point average of the last 100 episodes: 201.42\n",
      "\n",
      "Environment solved in 761 episodes!\n",
      "\n",
      "Total Runtime: 1045.66 s (17.43 min)\n"
     ]
    }
   ],
   "source": [
    "start = time.time()\n",
    "\n",
    "num_episodes = 2000\n",
    "max_num_timesteps = 1000\n",
    "\n",
    "total_point_history = []\n",
    "\n",
    "num_p_av = 100    # number of total points to use for averaging\n",
    "epsilon = 1.0     # initial ε value for ε-greedy policy\n",
    "\n",
    "# Create a memory buffer D with capacity N\n",
    "memory_buffer = deque(maxlen=MEMORY_SIZE)\n",
    "\n",
    "# Set the target network weights equal to the Q-Network weights\n",
    "target_q_network.set_weights(q_network.get_weights())\n",
    "\n",
    "for i in range(num_episodes):\n",
    "    \n",
    "    # Reset the environment to the initial state and get the initial state\n",
    "    state = env.reset()\n",
    "    total_points = 0\n",
    "    \n",
    "    for t in range(max_num_timesteps):\n",
    "        \n",
    "        # From the current state S choose an action A using an ε-greedy policy\n",
    "        state_qn = np.expand_dims(state, axis=0)  # state needs to be the right shape for the q_network\n",
    "        q_values = q_network(state_qn)\n",
    "        action = utils.get_action(q_values, epsilon)\n",
    "        \n",
    "        # Take action A and receive reward R and the next state S'\n",
    "        next_state, reward, done, _ = env.step(action)\n",
    "        \n",
    "        # Store experience tuple (S,A,R,S') in the memory buffer.\n",
    "        # We store the done variable as well for convenience.\n",
    "        memory_buffer.append(experience(state, action, reward, next_state, done))\n",
    "        \n",
    "        # Only update the network every NUM_STEPS_FOR_UPDATE time steps.\n",
    "        update = utils.check_update_conditions(t, NUM_STEPS_FOR_UPDATE, memory_buffer)\n",
    "        \n",
    "        if update:\n",
    "            # Sample random mini-batch of experience tuples (S,A,R,S') from D\n",
    "            experiences = utils.get_experiences(memory_buffer)\n",
    "            \n",
    "            # Set the y targets, perform a gradient descent step,\n",
    "            # and update the network weights.\n",
    "            agent_learn(experiences, GAMMA)\n",
    "        \n",
    "        state = next_state.copy()\n",
    "        total_points += reward\n",
    "        \n",
    "        if done:\n",
    "            break\n",
    "            \n",
    "    total_point_history.append(total_points)\n",
    "    av_latest_points = np.mean(total_point_history[-num_p_av:])\n",
    "    \n",
    "    # Update the ε value\n",
    "    epsilon = utils.get_new_eps(epsilon)\n",
    "\n",
    "    print(f\"\\rEpisode {i+1} | Total point average of the last {num_p_av} episodes: {av_latest_points:.2f}\", end=\"\")\n",
    "\n",
    "    if (i+1) % num_p_av == 0:\n",
    "        print(f\"\\rEpisode {i+1} | Total point average of the last {num_p_av} episodes: {av_latest_points:.2f}\")\n",
    "\n",
    "    # We will consider that the environment is solved if we get an\n",
    "    # average of 200 points in the last 100 episodes.\n",
    "    if av_latest_points >= 200.0:\n",
    "        print(f\"\\n\\nEnvironment solved in {i+1} episodes!\")\n",
    "        q_network.save('lunar_lander_model.h5')\n",
    "        break\n",
    "        \n",
    "tot_time = time.time() - start\n",
    "\n",
    "print(f\"\\nTotal Runtime: {tot_time:.2f} s ({(tot_time/60):.2f} min)\")"
   ]
  },
  {
   "cell_type": "markdown",
   "metadata": {},
   "source": [
    "We can plot the total point history along with the moving average to see how our agent improved during training. If you want to know about the different plotting options available in the `utils.plot_history` function we encourage you to take a look at the `utils` module."
   ]
  },
  {
   "cell_type": "code",
   "execution_count": 55,
   "metadata": {
    "deletable": false,
    "editable": false,
    "id": "E_EUXxurfe8m",
    "scrolled": false
   },
   "outputs": [
    {
     "data": {
      "image/png": "[encoded data removed]",
      "text/plain": [
       "<Figure size 720x504 with 1 Axes>"
      ]
     },
     "metadata": {},
     "output_type": "display_data"
    }
   ],
   "source": [
    "# Plot the total point history along with the moving average\n",
    "utils.plot_history(total_point_history)"
   ]
  },
  {
   "cell_type": "markdown",
   "metadata": {
    "id": "c_xwgaX5MnYt"
   },
   "source": [
    "<a name=\"10\"></a>\n",
    "## 10 - See the Trained Agent In Action\n",
    "\n",
    "Now that we have trained our agent, we can see it in action. We will use the `utils.create_video` function to create a video of our agent interacting with the environment using the trained $Q$-Network. The `utils.create_video` function uses the `imageio` library to create the video. This library produces some warnings that can be distracting, so, to suppress these warnings we run the code below."
   ]
  },
  {
   "cell_type": "code",
   "execution_count": 56,
   "metadata": {
    "deletable": false,
    "editable": false
   },
   "outputs": [],
   "source": [
    "# Suppress warnings from imageio\n",
    "import logging\n",
    "logging.getLogger().setLevel(logging.ERROR)"
   ]
  },
  {
   "cell_type": "markdown",
   "metadata": {},
   "source": [
    "In the cell below we create a video of our agent interacting with the Lunar Lander environment using the trained `q_network`. The video is saved to the `videos` folder with the given `filename`. We use the `utils.embed_mp4` function to embed the video in the Jupyter Notebook so that we can see it here directly without having to download it.\n",
    "\n",
    "We should note that since the lunar lander starts with a random initial force applied to its center of mass, every time you run the cell below you will see a different video. If the agent was trained properly, it should be able to land the lunar lander in the landing pad every time, regardless of the initial force applied to its center of mass."
   ]
  },
  {
   "cell_type": "code",
   "execution_count": 57,
   "metadata": {
    "deletable": false,
    "editable": false,
    "id": "3Ttb_zLeJKiG"
   },
   "outputs": [
    {
     "data": {
      "text/html": [
       "\n",
       "    <video width=\"840\" height=\"480\" controls>\n",
       "    <source src=\"data:video/mp4;base64,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\" type=\"video/mp4\">\n",
       "    Your browser does not support the video tag.\n",
       "    </video>"
      ],
      "text/plain": [
       "<IPython.core.display.HTML object>"
      ]
     },
     "execution_count": 57,
     "metadata": {},
     "output_type": "execute_result"
    }
   ],
   "source": [
    "filename = \"./videos/lunar_lander.mp4\"\n",
    "\n",
    "utils.create_video(filename, env, q_network)\n",
    "utils.embed_mp4(filename)"
   ]
  },
  {
   "cell_type": "markdown",
   "metadata": {},
   "source": [
    "<a name=\"11\"></a>\n",
    "## 11 - Congratulations!\n",
    "\n",
    "You have successfully used Deep Q-Learning with Experience Replay to train an agent to land a lunar lander safely on a landing pad on the surface of the moon. Congratulations!"
   ]
  },
  {
   "cell_type": "markdown",
   "metadata": {},
   "source": [
    "<a name=\"12\"></a>\n",
    "## 12 - References\n",
    "\n",
    "If you would like to learn more about Deep Q-Learning, we recommend you check out the following papers.\n",
    "\n",
    "\n",
    "* Mnih, V., Kavukcuoglu, K., Silver, D. et al. Human-level control through deep reinforcement learning. Nature 518, 529–533 (2015).\n",
    "\n",
    "\n",
    "* Lillicrap, T. P., Hunt, J. J., Pritzel, A., et al. Continuous Control with Deep Reinforcement Learning. ICLR (2016).\n",
    "\n",
    "\n",
    "* Mnih, V., Kavukcuoglu, K., Silver, D. et al. Playing Atari with Deep Reinforcement Learning. arXiv e-prints.  arXiv:1312.5602 (2013)."
   ]
  },
  {
   "cell_type": "markdown",
   "metadata": {},
   "source": [
    "<details>\n",
    "  <summary><font size=\"2\" color=\"darkgreen\"><b>Please click here if you want to experiment with any of the non-graded code.</b></font></summary>\n",
    "    <p><i><b>Important Note: Please only do this when you've already passed the assignment to avoid problems with the autograder.</b></i>\n",
    "    <ol>\n",
    "        <li> On the notebook’s menu, click “View” > “Cell Toolbar” > “Edit Metadata”</li>\n",
    "        <li> Hit the “Edit Metadata” button next to the code cell which you want to lock/unlock</li>\n",
    "        <li> Set the attribute value for “editable” to:\n",
    "            <ul>\n",
    "                <li> “true” if you want to unlock it </li>\n",
    "                <li> “false” if you want to lock it </li>\n",
    "            </ul>\n",
    "        </li>\n",
    "        <li> On the notebook’s menu, click “View” > “Cell Toolbar” > “None” </li>\n",
    "    </ol>\n",
    "    <p> Here's a short demo of how to do the steps above: \n",
    "        <br>\n",
    "        <img src=\"https://drive.google.com/uc?export=view&id=14Xy_Mb17CZVgzVAgq7NCjMVBvSae3xO1\" align=\"center\" alt=\"unlock_cells.gif\">\n",
    "</details>"
   ]
  }
 ],
 "metadata": {
  "accelerator": "GPU",
  "colab": {
   "collapsed_sections": [],
   "name": "TensorFlow - Lunar Lander.ipynb",
   "provenance": []
  },
  "kernelspec": {
   "display_name": "Python 3",
   "language": "python",
   "name": "python3"
  },
  "language_info": {
   "codemirror_mode": {
    "name": "ipython",
    "version": 3
   },
   "file_extension": ".py",
   "mimetype": "text/x-python",
   "name": "python",
   "nbconvert_exporter": "python",
   "pygments_lexer": "ipython3",
   "version": "3.7.6"
  }
 },
 "nbformat": 4,
 "nbformat_minor": 1
}
